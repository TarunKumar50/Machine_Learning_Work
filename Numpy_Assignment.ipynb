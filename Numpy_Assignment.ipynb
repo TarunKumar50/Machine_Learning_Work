{
 "cells": [
  {
   "cell_type": "markdown",
   "metadata": {},
   "source": [
    "Write a function so that the columns of the output matrix are powers of the input\n",
    "vector.\n",
    "The order of the powers is determined by the increasing boolean argument. Specifically, when\n",
    "increasing is False, the i-th output column is the input vector raised element-wise to the power\n",
    "of N - i - 1.\n",
    "\n",
    "HINT: Such a matrix with a geometric progression in each row is named for Alexandre-\n",
    "Theophile Vandermonde."
   ]
  },
  {
   "cell_type": "code",
   "execution_count": 13,
   "metadata": {},
   "outputs": [],
   "source": [
    "def vector_power(invec,N,increasing):\n",
    "    if not increasing:\n",
    "        op_matrix = np.array([x**(N-i-1) for x in invec for i in range(N)]).reshape(invec.size,N)\n",
    "    elif increasing:\n",
    "        op_matrix = np.array([x**i for x in invec for i in range(N)]).reshape(invec.size,N)\n",
    "    return op_matrix\n",
    "    "
   ]
  },
  {
   "cell_type": "code",
   "execution_count": 20,
   "metadata": {},
   "outputs": [
    {
     "name": "stdout",
     "output_type": "stream",
     "text": [
      "Decreasing order of power \n",
      "\n",
      " [[ 9  3  1]\n",
      " [16  4  1]\n",
      " [25  5  1]\n",
      " [36  6  1]\n",
      " [49  7  1]] \n",
      "\n",
      "Increasing order of power \n",
      "\n",
      " [[ 1  3  9]\n",
      " [ 1  4 16]\n",
      " [ 1  5 25]\n",
      " [ 1  6 36]\n",
      " [ 1  7 49]] \n",
      "\n"
     ]
    }
   ],
   "source": [
    "invec = np.array([3,4,5,6,7])\n",
    "col_size = 3\n",
    "out_mat_dec = vector_power(invec,col_size,False)\n",
    "out_mat_inc = vector_power(invec,col_size,True)\n",
    "print('Decreasing order of power \\n\\n',out_mat_dec, '\\n')\n",
    "print('Increasing order of power \\n\\n',out_mat_inc,'\\n')"
   ]
  },
  {
   "cell_type": "markdown",
   "metadata": {},
   "source": [
    "Question: Write a function to find moving average in an array over a window:\n",
    "Test it over [3, 5, 7, 2, 8, 10, 11, 65, 72, 81, 99, 100, 150] and window of 3."
   ]
  },
  {
   "cell_type": "code",
   "execution_count": 33,
   "metadata": {},
   "outputs": [],
   "source": [
    "import pandas as pd\n",
    "import numpy as np\n",
    "def findmovavg(arr):\n",
    "    y = []\n",
    "    k = 3\n",
    "    n = len(arr)\n",
    "    ws = n-k+1\n",
    "    for i in range(ws):\n",
    "        y.append(arr[i:i+3].mean().astype(int))\n",
    "    print('Input',' '.join(arr.astype(str)),'\\n')\n",
    "    print('Ouput:','\\n'+'-'*40)\n",
    "    return pd.Series(y,index=['y'+str(i) for i in range(1,ws+1)])"
   ]
  },
  {
   "cell_type": "code",
   "execution_count": 34,
   "metadata": {},
   "outputs": [],
   "source": [
    "arr = np.array([3, 5, 7, 2, 8, 10, 11, 65, 72, 81, 99, 100, 150])"
   ]
  },
  {
   "cell_type": "code",
   "execution_count": 35,
   "metadata": {},
   "outputs": [
    {
     "name": "stdout",
     "output_type": "stream",
     "text": [
      "Input 3 5 7 2 8 10 11 65 72 81 99 100 150 \n",
      "\n",
      "Ouput: \n",
      "----------------------------------------\n"
     ]
    },
    {
     "data": {
      "text/plain": [
       "y1       5\n",
       "y2       4\n",
       "y3       5\n",
       "y4       6\n",
       "y5       9\n",
       "y6      28\n",
       "y7      49\n",
       "y8      72\n",
       "y9      84\n",
       "y10     93\n",
       "y11    116\n",
       "dtype: int64"
      ]
     },
     "execution_count": 35,
     "metadata": {},
     "output_type": "execute_result"
    }
   ],
   "source": [
    "findmovavg(arr)"
   ]
  }
 ],
 "metadata": {
  "kernelspec": {
   "display_name": "Python 3",
   "language": "python",
   "name": "python3"
  },
  "language_info": {
   "codemirror_mode": {
    "name": "ipython",
    "version": 3
   },
   "file_extension": ".py",
   "mimetype": "text/x-python",
   "name": "python",
   "nbconvert_exporter": "python",
   "pygments_lexer": "ipython3",
   "version": "3.7.3"
  }
 },
 "nbformat": 4,
 "nbformat_minor": 2
}
